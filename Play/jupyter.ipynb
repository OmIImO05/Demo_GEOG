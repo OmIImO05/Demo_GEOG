{
 "cells": [
  {
   "cell_type": "markdown",
   "metadata": {},
   "source": [
    "[![image](https://colab.research.google.com/assets/colab-badge.svg)](https://colab.research.google.com/github/OmIImO05/Demo_GEOG/blob/main/Play/jupyter.ipynb)"
   ]
  },
  {
   "cell_type": "markdown",
   "metadata": {},
   "source": [
    "# Geo Data Visualization and Manipulation\n",
    "I will work on some data and utilize some packages to try this jupyter notebook file."
   ]
  },
  {
   "cell_type": "code",
   "execution_count": 2,
   "metadata": {},
   "outputs": [],
   "source": [
    "import pandas as pd\n",
    "import numpy as np\n",
    "import seaborn as sns\n",
    "\n",
    "import matplotlib.pyplot as plt\n",
    "\n",
    "# %matplotlib widget\n",
    "%matplotlib inline\n",
    "\n",
    "plt.rcParams['figure.figsize'] = [12, 8]\n",
    "\n",
    "plt.style.use(\"ggplot\")"
   ]
  },
  {
   "cell_type": "markdown",
   "metadata": {},
   "source": [
    "In this section, we will examine some of the factors that influence population growth and how they are changing around the world. The population.csv file is in the sub-folder *Play*. If you want to run the code please download the [population.csv](https://github.com/OmIImO05/Demo_GEOG/blob/main/Play/population.csv) file and then try to run the code. It should work. \n",
    "The first data frame contains the total population of each country over time."
   ]
  },
  {
   "cell_type": "code",
   "execution_count": 4,
   "metadata": {},
   "outputs": [
    {
     "data": {
      "text/html": [
       "<div>\n",
       "<style scoped>\n",
       "    .dataframe tbody tr th:only-of-type {\n",
       "        vertical-align: middle;\n",
       "    }\n",
       "\n",
       "    .dataframe tbody tr th {\n",
       "        vertical-align: top;\n",
       "    }\n",
       "\n",
       "    .dataframe thead th {\n",
       "        text-align: right;\n",
       "    }\n",
       "</style>\n",
       "<table border=\"1\" class=\"dataframe\">\n",
       "  <thead>\n",
       "    <tr style=\"text-align: right;\">\n",
       "      <th></th>\n",
       "      <th>geo</th>\n",
       "      <th>time</th>\n",
       "      <th>population</th>\n",
       "    </tr>\n",
       "  </thead>\n",
       "  <tbody>\n",
       "    <tr>\n",
       "      <th>0</th>\n",
       "      <td>afg</td>\n",
       "      <td>1800</td>\n",
       "      <td>3280000</td>\n",
       "    </tr>\n",
       "    <tr>\n",
       "      <th>1</th>\n",
       "      <td>afg</td>\n",
       "      <td>1801</td>\n",
       "      <td>3280000</td>\n",
       "    </tr>\n",
       "    <tr>\n",
       "      <th>2</th>\n",
       "      <td>afg</td>\n",
       "      <td>1802</td>\n",
       "      <td>3280000</td>\n",
       "    </tr>\n",
       "    <tr>\n",
       "      <th>3</th>\n",
       "      <td>afg</td>\n",
       "      <td>1803</td>\n",
       "      <td>3280000</td>\n",
       "    </tr>\n",
       "    <tr>\n",
       "      <th>4</th>\n",
       "      <td>afg</td>\n",
       "      <td>1804</td>\n",
       "      <td>3280000</td>\n",
       "    </tr>\n",
       "    <tr>\n",
       "      <th>5</th>\n",
       "      <td>afg</td>\n",
       "      <td>1805</td>\n",
       "      <td>3280000</td>\n",
       "    </tr>\n",
       "    <tr>\n",
       "      <th>6</th>\n",
       "      <td>afg</td>\n",
       "      <td>1806</td>\n",
       "      <td>3280000</td>\n",
       "    </tr>\n",
       "    <tr>\n",
       "      <th>7</th>\n",
       "      <td>afg</td>\n",
       "      <td>1807</td>\n",
       "      <td>3280000</td>\n",
       "    </tr>\n",
       "    <tr>\n",
       "      <th>8</th>\n",
       "      <td>afg</td>\n",
       "      <td>1808</td>\n",
       "      <td>3280000</td>\n",
       "    </tr>\n",
       "    <tr>\n",
       "      <th>9</th>\n",
       "      <td>afg</td>\n",
       "      <td>1809</td>\n",
       "      <td>3280000</td>\n",
       "    </tr>\n",
       "  </tbody>\n",
       "</table>\n",
       "</div>"
      ],
      "text/plain": [
       "   geo  time  population\n",
       "0  afg  1800     3280000\n",
       "1  afg  1801     3280000\n",
       "2  afg  1802     3280000\n",
       "3  afg  1803     3280000\n",
       "4  afg  1804     3280000\n",
       "5  afg  1805     3280000\n",
       "6  afg  1806     3280000\n",
       "7  afg  1807     3280000\n",
       "8  afg  1808     3280000\n",
       "9  afg  1809     3280000"
      ]
     },
     "execution_count": 4,
     "metadata": {},
     "output_type": "execute_result"
    }
   ],
   "source": [
    "population = pd.read_csv(\"population.csv\").rename(columns={\"population_total\": \"population\"})\n",
    "population.head(10)"
   ]
  },
  {
   "cell_type": "markdown",
   "metadata": {},
   "source": [
    "Let's investigate the population growth in the 20th Century by producing a data frame *pop_20_century* with the total population (for all countries in population.csv together) for each year from 1901 to 2000."
   ]
  },
  {
   "cell_type": "code",
   "execution_count": 6,
   "metadata": {},
   "outputs": [
    {
     "data": {
      "text/html": [
       "<style type=\"text/css\">\n",
       "</style>\n",
       "<table id=\"T_070b9\">\n",
       "  <thead>\n",
       "    <tr>\n",
       "      <th class=\"blank level0\" >&nbsp;</th>\n",
       "      <th id=\"T_070b9_level0_col0\" class=\"col_heading level0 col0\" >population</th>\n",
       "    </tr>\n",
       "    <tr>\n",
       "      <th class=\"index_name level0\" >time</th>\n",
       "      <th class=\"blank col0\" >&nbsp;</th>\n",
       "    </tr>\n",
       "  </thead>\n",
       "  <tbody>\n",
       "    <tr>\n",
       "      <th id=\"T_070b9_level0_row0\" class=\"row_heading level0 row0\" >1901</th>\n",
       "      <td id=\"T_070b9_row0_col0\" class=\"data row0 col0\" >1,658,785,643</td>\n",
       "    </tr>\n",
       "    <tr>\n",
       "      <th id=\"T_070b9_level0_row1\" class=\"row_heading level0 row1\" >1902</th>\n",
       "      <td id=\"T_070b9_row1_col0\" class=\"data row1 col0\" >1,672,564,382</td>\n",
       "    </tr>\n",
       "    <tr>\n",
       "      <th id=\"T_070b9_level0_row2\" class=\"row_heading level0 row2\" >1903</th>\n",
       "      <td id=\"T_070b9_row2_col0\" class=\"data row2 col0\" >1,687,012,805</td>\n",
       "    </tr>\n",
       "    <tr>\n",
       "      <th id=\"T_070b9_level0_row3\" class=\"row_heading level0 row3\" >1904</th>\n",
       "      <td id=\"T_070b9_row3_col0\" class=\"data row3 col0\" >1,701,647,404</td>\n",
       "    </tr>\n",
       "    <tr>\n",
       "      <th id=\"T_070b9_level0_row4\" class=\"row_heading level0 row4\" >1905</th>\n",
       "      <td id=\"T_070b9_row4_col0\" class=\"data row4 col0\" >1,716,473,051</td>\n",
       "    </tr>\n",
       "    <tr>\n",
       "      <th id=\"T_070b9_level0_row5\" class=\"row_heading level0 row5\" >1906</th>\n",
       "      <td id=\"T_070b9_row5_col0\" class=\"data row5 col0\" >1,731,494,784</td>\n",
       "    </tr>\n",
       "    <tr>\n",
       "      <th id=\"T_070b9_level0_row6\" class=\"row_heading level0 row6\" >1907</th>\n",
       "      <td id=\"T_070b9_row6_col0\" class=\"data row6 col0\" >1,746,736,854</td>\n",
       "    </tr>\n",
       "    <tr>\n",
       "      <th id=\"T_070b9_level0_row7\" class=\"row_heading level0 row7\" >1908</th>\n",
       "      <td id=\"T_070b9_row7_col0\" class=\"data row7 col0\" >1,762,200,207</td>\n",
       "    </tr>\n",
       "    <tr>\n",
       "      <th id=\"T_070b9_level0_row8\" class=\"row_heading level0 row8\" >1909</th>\n",
       "      <td id=\"T_070b9_row8_col0\" class=\"data row8 col0\" >1,777,067,748</td>\n",
       "    </tr>\n",
       "    <tr>\n",
       "      <th id=\"T_070b9_level0_row9\" class=\"row_heading level0 row9\" >1910</th>\n",
       "      <td id=\"T_070b9_row9_col0\" class=\"data row9 col0\" >1,791,335,684</td>\n",
       "    </tr>\n",
       "  </tbody>\n",
       "</table>\n"
      ],
      "text/plain": [
       "<pandas.io.formats.style.Styler at 0x13a4bf88110>"
      ]
     },
     "execution_count": 6,
     "metadata": {},
     "output_type": "execute_result"
    }
   ],
   "source": [
    "pop_20_century = (\n",
    "    population\n",
    "    .drop(columns=\"geo\")\n",
    "    .query(\"1901 <= time <= 2000\")\n",
    "    .groupby(\"time\").sum()\n",
    ")\n",
    "\n",
    "pop_20_century.head(10).style.format({\"population\": \"{:,}\"})"
   ]
  },
  {
   "cell_type": "markdown",
   "metadata": {},
   "source": [
    "Let's do a line plot with the years from the 20th century in the 𝑥-axis and their corresponding populations in the 𝑦-axis."
   ]
  },
  {
   "cell_type": "code",
   "execution_count": 7,
   "metadata": {},
   "outputs": [
    {
     "data": {
      "image/png": "[encoded data removed]",
      "text/plain": [
       "<Figure size 1200x800 with 1 Axes>"
      ]
     },
     "metadata": {},
     "output_type": "display_data"
    }
   ],
   "source": [
    "pop_20_century.plot()\n",
    "plt.show()"
   ]
  }
 ],
 "metadata": {
  "kernelspec": {
   "display_name": "geo",
   "language": "python",
   "name": "python3"
  },
  "language_info": {
   "codemirror_mode": {
    "name": "ipython",
    "version": 3
   },
   "file_extension": ".py",
   "mimetype": "text/x-python",
   "name": "python",
   "nbconvert_exporter": "python",
   "pygments_lexer": "ipython3",
   "version": "3.11.4"
  }
 },
 "nbformat": 4,
 "nbformat_minor": 2
}
